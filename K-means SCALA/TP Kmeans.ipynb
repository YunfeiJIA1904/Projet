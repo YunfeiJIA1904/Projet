{
 "cells": [
  {
   "cell_type": "code",
   "execution_count": 1,
   "id": "electronic-amino",
   "metadata": {},
   "outputs": [
    {
     "data": {
      "text/plain": [
       "scala.util.Random$@49ba19a0"
      ]
     },
     "execution_count": 1,
     "metadata": {},
     "output_type": "execute_result"
    }
   ],
   "source": [
    "import scala.math.sqrt\n",
    "import scala.io.Source\n",
    "import util.Random.nextInt\n",
    "import scala.collection.mutable.Map\n",
    "import scala.collection.mutable.ArrayBuffer\n",
    "import Array._"
   ]
  },
  {
   "cell_type": "code",
   "execution_count": 2,
   "id": "hollywood-bible",
   "metadata": {
    "scrolled": true
   },
   "outputs": [
    {
     "data": {
      "text/plain": [
       "defined class Kmeans\n"
      ]
     },
     "execution_count": 2,
     "metadata": {},
     "output_type": "execute_result"
    }
   ],
   "source": [
    "class Kmeans(val d:List[String], val k:Int){\n",
    "    \n",
    "//************************** PARTIE CODE *************************************\n",
    "    \n",
    "    val l = d.length\n",
    "    val dim = 5\n",
    "    val data = tabData()\n",
    "    val tabCentre = initCentre()\n",
    "//---------------------------------------------------------  \n",
    "    // extraire Data sous-forme Matrice\n",
    "    def tabData(): Array[Array[Float]]={\n",
    "        var tableau = Array.ofDim[Float](d.length,dim)        //matrice (d.length, dim)                \n",
    "        for(i <- 0 until l){                                //mettre data sous-forme matrice(Float)\n",
    "            if(d(i) != \"\"){\n",
    "                var tmp = d(i).split(\",\")\n",
    "\n",
    "                for(j <- 0 until 4){\n",
    "                tableau(i)(j) = tmp(j).toFloat\n",
    "                }\n",
    "            }\n",
    "      \n",
    "        }  \n",
    "        return tableau     \n",
    "    }\n",
    "    \n",
    "//----------------------------------------------------------------   \n",
    "    // creation d'une matrice(K,dim) contient des centres choisi au hasard,avec nombre de centre = K. \n",
    "    def initCentre():Array[Array[Float]]={                  \n",
    "        var tabCentre = Array.ofDim[Float](k,dim)            \n",
    "        for(i <- 0 until k){\n",
    "            var tmp = util.Random.nextInt(l)\n",
    "            var data = tabData()\n",
    "            tabCentre(i) = data(tmp)\n",
    "        }\n",
    "        return tabCentre\n",
    "    }\n",
    "    \n",
    "//-----------------------------------------------------------------\n",
    "    //calculer la distance entre 2 vecteurs (distance Euclidienne)\n",
    "    def distance(v1: Array[Float], v2: Array[Float]):Float={    \n",
    "        var dist = 0.0\n",
    "        for(i <- 0 until v1.length){\n",
    "          dist += (v1(i) - v2(i)) * (v1(i) - v2(i))\n",
    "        }\n",
    "        dist= math.sqrt(dist)\n",
    "        return dist.toFloat\n",
    "    }\n",
    "    \n",
    "//----------------------------------------------------------------\n",
    "    //comparer qui est plus proche d'un des centres et retourner indice de ce centre\n",
    "    def presDuCentre(tabCentre:Array[Array[Float]],v:Array[Float]):Int = {  \n",
    "        var min = distance(tabCentre(0),v) // initialiser un min pour pouvoir comparer \n",
    "        var indice = 0\n",
    "        for(i <- 1 until tabCentre.length){\n",
    "            var tmp = distance(tabCentre(i),v)\n",
    "            if(tmp < min){              // si la disntance est plus petit que distance initiale on switch\n",
    "                min = tmp\n",
    "                indice = i\n",
    "            }\n",
    "        }\n",
    "        return indice\n",
    "    }\n",
    "\n",
    "//-----------------------------------------------------------------------------\n",
    "    //calculer moyenne et return une matrice de taill (dim) et et moyenne de chaque colonne\n",
    "    def moyenne(data:Array[Array[Float]]):Array[Float]={\n",
    "        var somme: Float = 0\n",
    "        var matMoy = Array.ofDim[Float](dim)\n",
    "        var l = data.length\n",
    "        \n",
    "        for(i <- 0 until dim; j <- 0 until l){\n",
    "            somme += data(j)(i)\n",
    "            if(j == l-1){\n",
    "                matMoy(i) = somme/(l)\n",
    "                somme = 0\n",
    "            }   \n",
    "        }\n",
    "        return matMoy\n",
    "    }\n",
    "    \n",
    "//-------------------------------------------------------------------\n",
    "    //calculer variance et return une matrice de taill (dim) et et variance de chaque colonne\n",
    "    def variance(data:Array[Array[Float]]):Array[Float]={\n",
    "        var matMoy = moyenne(data)\n",
    "        var somme: Float = 0\n",
    "        var matVari = Array.ofDim[Float](dim)\n",
    "        var l = data.length\n",
    "        for(i <- 0 until dim; j <- 0 until l){\n",
    "            somme += (data(j)(i) - matMoy(i)) * (data(j)(i) - matMoy(i))\n",
    "            if (j == l-1){\n",
    "                matVari(i) = somme/(l)\n",
    "                somme = 0\n",
    "            }\n",
    "        }\n",
    "        return matVari\n",
    "    }\n",
    "    \n",
    "//------------------------------------------------------------    \n",
    "    //calculer ecartype\n",
    "    def ecartType(data:Array[Array[Float]]):Array[Float]={\n",
    "        var matVari = variance(data)\n",
    "        var matEcart = Array.ofDim[Float](dim)\n",
    "        for(i <- 0 until dim){\n",
    "            matEcart(i) = sqrt(matVari(i)).toFloat\n",
    "        }\n",
    "        return matEcart\n",
    "    }\n",
    "    \n",
    "//---------------------------version 1 (en modifiant la dernier valeur d'un data)(pas optimale si les donnees sont differents)------------------------------\n",
    "    //placer les data dans chaque cluster(en modifiant la dernier valeur par indice trouvé grâce à presDuCentre)\n",
    "    /*\n",
    "    def cluster():Array[Array[Float]]={\n",
    "        var num = 0\n",
    "        for(i <- 0 until data.length){\n",
    "            num = presDuCentre(tabCentre,data(i))\n",
    "            data(i)(dim-1) = num\n",
    "        }\n",
    "        return data\n",
    "    }\n",
    "    */\n",
    "    \n",
    "//---------------------------version 2 (creation sous forme d'un dictionnaire)-----------------------------------------\n",
    "    // placer dans Dico les donnee de chaque K, exemple si K = 2, il y aura 2 keys dans le Dico\n",
    "    def cluster:Map[Int,Array[Array[Float]]]={\n",
    "        var ind = presDuCentre(tabCentre,data(0))\n",
    "        var tmp = Array(data(0))\n",
    "        var dicoCluster = Map(ind -> tmp)\n",
    "\n",
    "        for(i <- 1 until data.length){\n",
    "            ind = presDuCentre(tabCentre,data(i))\n",
    "            tmp = Array(data(i))\n",
    "            if(dicoCluster.contains(ind)){\n",
    "                dicoCluster(ind):+= data(i)\n",
    "            }\n",
    "            else{\n",
    "                var tmpMap = Map(ind -> tmp)\n",
    "                dicoCluster = dicoCluster ++ tmpMap\n",
    "            }\n",
    "        }\n",
    "       return dicoCluster \n",
    "    }\n",
    "    \n",
    "//-------------------------------------------------------------\n",
    "    //faire les repetitions pour avoir des donnees precis d'un cluster\n",
    "    def kmeans(rep:Int):Map[Int,Array[Array[Float]]]={\n",
    "        var newDico: Map[Int,Array[Array[Float]]]= Map()\n",
    "        var dicoCluster = cluster     //1er rangement des donnees en fonction des millieux\n",
    "        for(i <- 0 until rep){\n",
    "            for(i <- 0 until tabCentre.length){\n",
    "                var moy = moyenne(dicoCluster(i))  //reajuster les millieux\n",
    "                tabCentre(i) = moy\n",
    "            }\n",
    "            newDico = cluster   //reranger les nouveau donnees avec les new milieux\n",
    "        }\n",
    "        return newDico\n",
    "    }\n",
    "    \n",
    "//************************** PARTIE AFFICHAGE *************************************\n",
    "    \n",
    "    //les cordonnes des donnees\n",
    "    //creation d'un dico Map[Int,Array[Float]] avec Int K et Array[Float] les cordonnes des donnees\n",
    "    def cd(donnees:Map[Int,Array[Array[Float]]] ,indice: Int):Map[Int,Array[Float]]={\n",
    "        // donnees est sous forme ***Map[Int,Array[Array[Float]]]***\n",
    "        var c = donnees(0)(0)(indice)\n",
    "        var array = Array[Float](c)\n",
    "        var dico = Map(0 -> array)\n",
    "        for(k <- 0 until tabCentre.length){\n",
    "            var tab = ArrayBuffer[Float]()\n",
    "            if(dico.contains(k)){\n",
    "                for(i <- 1 until donnees(k).length-1){\n",
    "                    tab += donnees(k)(i)(indice)\n",
    "                }\n",
    "                var b = tab.toArray\n",
    "                dico(k) = concat(dico(k), b)\n",
    "            }\n",
    "            else{\n",
    "                for(i <- 0 until donnees(k).length-1){\n",
    "                    tab += donnees(k)(i)(indice)\n",
    "                }\n",
    "                var a = tab.toArray\n",
    "                var tmpMap = Map(k -> a)\n",
    "                dico = dico ++ tmpMap\n",
    "            }  \n",
    "        }\n",
    "        return dico\n",
    "    }\n",
    "    \n",
    "\n",
    "    \n",
    "    //les cordonnes des centres\n",
    "    def cc(indice: Int):Array[Float]={\n",
    "        // tabCentre est sous forme ***Array[Array[Float]]***\n",
    "        var c = tabCentre(0)(indice)\n",
    "        var tab = ArrayBuffer[Float](c)\n",
    "        \n",
    "        for(i <- 1 until tabCentre.length){\n",
    "            tab += tabCentre(i)(indice)\n",
    "        }\n",
    "        return tab.toArray\n",
    "    }\n",
    "   \n",
    "//---------------------------------------------------------------------------------    \n",
    "}\n"
   ]
  },
  {
   "cell_type": "code",
   "execution_count": 9,
   "id": "cognitive-slovak",
   "metadata": {},
   "outputs": [
    {
     "data": {
      "text/plain": [
       "<matplotlib.collections.PathCollection at 0x1f3c957a7c8>"
      ]
     },
     "execution_count": 5,
     "metadata": {},
     "output_type": "execute_result"
    },
    {
     "data": {
      "image/png": "[encoded data removed]",
      "text/plain": [
       "<Figure size 432x288 with 1 Axes>"
      ]
     },
     "metadata": {
      "needs_background": "light"
     },
     "output_type": "display_data"
    }
   ],
   "source": [
    "//**************************** PARTIE EXECUTION *******************************************************\n",
    "val s = Source.fromFile(\"iris.data\").getLines().toList\n",
    "var k = new Kmeans(s,5)\n",
    "var d = k.kmeans(50)\n",
    "\n",
    "//fonction cd(donnes after kmeans, indice)\n",
    "//k.cd retourne un Map[Int,Array[Float]] avec Int les differents K et Array avec les valeurs\n",
    "var dicoX = k.cd(d,0)   //on prend le 1er valeur pour X et 2e pour Y \n",
    "var dicoY = k.cd(d,1)\n",
    "\n",
    "//fonction cc(indice)\n",
    "//k.cc retourne un Array[Float] avec valeur des centres\n",
    "var cX = k.cc(0)\n",
    "var cY = k.cc(1)\n",
    "\n",
    "// donnees de chaque K ici 2 donc 0 et 1 --- si K = 3 donc 0,1 et 2 etc.\n",
    "beakerx.x1 = dicoX(0)\n",
    "beakerx.y1 = dicoY(0)\n",
    "beakerx.x2 = dicoX(1)\n",
    "beakerx.y2 = dicoY(1)\n",
    "beakerx.x3 = dicoX(2)\n",
    "beakerx.y3 = dicoY(2)\n",
    "beakerx.x4 = dicoX(3)\n",
    "beakerx.y4 = dicoY(3)\n",
    "beakerx.x5 = dicoX(4)\n",
    "beakerx.y5 = dicoY(4)\n",
    "\n",
    "//donnes de chaque centre\n",
    "beakerx.cx = cX\n",
    "beakerx.cy = cY\n",
    "//-------------------------------AFFICHAGE AVEC MATPLOTLIB--------------------------------------------\n",
    "/*\n",
    "ax.scatter(beakerx.x3, beakerx.y3, c='m', marker='.')\n",
    "ax.scatter(beakerx.x4, beakerx.y4, c='c', marker='.')\n",
    "ax.scatter(beakerx.x5, beakerx.y5, c='y', marker='.')\n",
    "*/\n",
    "%%python\n",
    "from beakerx.object import beakerx\n",
    "import matplotlib.pyplot as plt\n",
    "\n",
    "ax = plt.gca()\n",
    "\n",
    "ax.set_xlabel('x')\n",
    "ax.set_ylabel('y')\n",
    "\n",
    "\n",
    "ax.scatter(beakerx.x1, beakerx.y1, c='r', marker='.')\n",
    "ax.scatter(beakerx.x2, beakerx.y2, c='g', marker='.')\n",
    "ax.scatter(beakerx.x3, beakerx.y3, c='m', marker='.')\n",
    "ax.scatter(beakerx.x4, beakerx.y4, c='c', marker='.')\n",
    "ax.scatter(beakerx.x5, beakerx.y5, c='y', marker='.')\n",
    "\n",
    "ax.scatter(beakerx.cx, beakerx.cy, c='k')"
   ]
  },
  {
   "cell_type": "code",
   "execution_count": 5,
   "id": "terminal-genius",
   "metadata": {},
   "outputs": [
    {
     "data": {
      "text/plain": [
       "null"
      ]
     },
     "execution_count": 5,
     "metadata": {},
     "output_type": "execute_result"
    }
   ],
   "source": [
    "/*import scala.collection.mutable.ArrayBuffer\n",
    "\n",
    "//--------------------------------------------------- point de depart\n",
    "val x= ArrayBuffer[Float]()\n",
    "var td = k.data\n",
    "for(i <- 0 until td.length-1){\n",
    "    x += k.data(i)(0)\n",
    "}\n",
    "val y= ArrayBuffer[Float]()\n",
    "for(i <- 0 until td.length-1){\n",
    "    y += k.data(i)(1)\n",
    "}\n",
    "\n",
    "beakerx.x = x.toArray\n",
    "beakerx.y = y.toArray\n",
    "\n",
    "\n",
    "//%%python\n",
    "from beakerx.object import beakerx\n",
    "import matplotlib.pyplot as plot\n",
    "\n",
    "ax = plt.gca()\n",
    "\n",
    "ax.set_xlabel('x')\n",
    "ax.set_ylabel('y')\n",
    "\n",
    "\n",
    "ax.scatter(beakerx.x, beakerx.y, c='r', marker='.') */\n"
   ]
  },
  {
   "cell_type": "code",
   "execution_count": 10,
   "id": "concerned-quarter",
   "metadata": {
    "scrolled": true
   },
   "outputs": [
    {
     "data": {
      "text/plain": [
       "[[6.9, 3.1, 4.9, 1.5, 0.0], [6.7, 3.0, 5.0, 1.7, 0.0], [6.3, 3.3, 6.0, 2.5, 0.0], [7.1, 3.0, 5.9, 2.1, 0.0], [6.3, 2.9, 5.6, 1.8, 0.0], [6.5, 3.0, 5.8, 2.2, 0.0], [7.6, 3.0, 6.6, 2.1, 0.0], [7.3, 2.9, 6.3, 1.8, 0.0], [6.7, 2.5, 5.8, 1.8, 0.0], [7.2, 3.6, 6.1, 2.5, 0.0], [6.5, 3.2, 5.1, 2.0, 0.0], [6.4, 2.7, 5.3, 1.9, 0.0], [6.8, 3.0, 5.5, 2.1, 0.0], [6.4, 3.2, 5.3, 2.3, 0.0], [6.5, 3.0, 5.5, 1.8, 0.0], [7.7, 3.8, 6.7, 2.2, 0.0], [7.7, 2.6, 6.9, 2.3, 0.0], [6.9, 3.2, 5.7, 2.3, 0.0], [7.7, 2.8, 6.7, 2.0, 0.0], [6.7, 3.3, 5.7, 2.1, 0.0], [7.2, 3.2, 6.0, 1.8, 0.0], [6.4, 2.8, 5.6, 2.1, 0.0], [7.2, 3.0, 5.8, 1.6, 0.0], [7.4, 2.8, 6.1, 1.9, 0.0], [7.9, 3.8, 6.4, 2.0, 0.0], [6.4, 2.8, 5.6, 2.2, 0.0], [7.7, 3.0, 6.1, 2.3, 0.0], [6.3, 3.4, 5.6, 2.4, 0.0], [6.4, 3.1, 5.5, 1.8, 0.0], [6.9, 3.1, 5.4, 2.1, 0.0], [6.7, 3.1, 5.6, 2.4, 0.0], [6.9, 3.1, 5.1, 2.3, 0.0], [6.8, 3.2, 5.9, 2.3, 0.0], [6.7, 3.3, 5.7, 2.5, 0.0], [6.7, 3.0, 5.2, 2.3, 0.0], [6.5, 3.0, 5.2, 2.0, 0.0], [6.2, 3.4, 5.4, 2.3, 0.0]]"
      ]
     },
     "execution_count": 10,
     "metadata": {},
     "output_type": "execute_result"
    }
   ],
   "source": [
    "k.kmeans(50)(0)"
   ]
  },
  {
   "cell_type": "code",
   "execution_count": 11,
   "id": "brazilian-closer",
   "metadata": {
    "scrolled": false
   },
   "outputs": [
    {
     "data": {
      "text/plain": [
       "[[7.0, 3.2, 4.7, 1.4, 0.0], [6.4, 3.2, 4.5, 1.5, 0.0], [6.9, 3.1, 4.9, 1.5, 0.0], [6.5, 2.8, 4.6, 1.5, 0.0], [5.7, 2.8, 4.5, 1.3, 0.0], [6.3, 3.3, 4.7, 1.6, 0.0], [6.6, 2.9, 4.6, 1.3, 0.0], [5.9, 3.0, 4.2, 1.5, 0.0], [6.1, 2.9, 4.7, 1.4, 0.0], [6.7, 3.1, 4.4, 1.4, 0.0], [5.6, 3.0, 4.5, 1.5, 0.0], [6.2, 2.2, 4.5, 1.5, 0.0], [5.9, 3.2, 4.8, 1.8, 0.0], [6.3, 2.5, 4.9, 1.5, 0.0], [6.1, 2.8, 4.7, 1.2, 0.0], [6.4, 2.9, 4.3, 1.3, 0.0], [6.6, 3.0, 4.4, 1.4, 0.0], [6.8, 2.8, 4.8, 1.4, 0.0], [6.7, 3.0, 5.0, 1.7, 0.0], [6.0, 2.9, 4.5, 1.5, 0.0], [6.0, 2.7, 5.1, 1.6, 0.0], [5.4, 3.0, 4.5, 1.5, 0.0], [6.0, 3.4, 4.5, 1.6, 0.0], [6.7, 3.1, 4.7, 1.5, 0.0], [6.3, 2.3, 4.4, 1.3, 0.0], [6.1, 3.0, 4.6, 1.4, 0.0], [6.2, 2.9, 4.3, 1.3, 0.0], [5.8, 2.7, 5.1, 1.9, 0.0], [6.4, 2.7, 5.3, 1.9, 0.0], [5.7, 2.5, 5.0, 2.0, 0.0], [5.8, 2.8, 5.1, 2.4, 0.0], [6.0, 2.2, 5.0, 1.5, 0.0], [5.6, 2.8, 4.9, 2.0, 0.0], [6.3, 2.7, 4.9, 1.8, 0.0], [6.2, 2.8, 4.8, 1.8, 0.0], [6.1, 3.0, 4.9, 1.8, 0.0], [6.3, 2.8, 5.1, 1.5, 0.0], [6.1, 2.6, 5.6, 1.4, 0.0], [6.0, 3.0, 4.8, 1.8, 0.0], [5.8, 2.7, 5.1, 1.9, 0.0], [6.3, 2.5, 5.0, 1.9, 0.0], [5.9, 3.0, 5.1, 1.8, 0.0]]"
      ]
     },
     "execution_count": 11,
     "metadata": {},
     "output_type": "execute_result"
    }
   ],
   "source": [
    "k.kmeans(50)(1)"
   ]
  },
  {
   "cell_type": "code",
   "execution_count": 12,
   "id": "hourly-concentrate",
   "metadata": {
    "scrolled": false
   },
   "outputs": [
    {
     "data": {
      "text/plain": [
       "[[5.1, 3.5, 1.4, 0.2, 0.0], [5.0, 3.6, 1.4, 0.2, 0.0], [5.4, 3.9, 1.7, 0.4, 0.0], [5.0, 3.4, 1.5, 0.2, 0.0], [5.4, 3.7, 1.5, 0.2, 0.0], [4.8, 3.4, 1.6, 0.2, 0.0], [5.8, 4.0, 1.2, 0.2, 0.0], [5.7, 4.4, 1.5, 0.4, 0.0], [5.4, 3.9, 1.3, 0.4, 0.0], [5.1, 3.5, 1.4, 0.3, 0.0], [5.7, 3.8, 1.7, 0.3, 0.0], [5.1, 3.8, 1.5, 0.3, 0.0], [5.4, 3.4, 1.7, 0.2, 0.0], [5.1, 3.7, 1.5, 0.4, 0.0], [5.1, 3.3, 1.7, 0.5, 0.0], [4.8, 3.4, 1.9, 0.2, 0.0], [5.0, 3.4, 1.6, 0.4, 0.0], [5.2, 3.5, 1.5, 0.2, 0.0], [5.2, 3.4, 1.4, 0.2, 0.0], [5.4, 3.4, 1.5, 0.4, 0.0], [5.2, 4.1, 1.5, 0.1, 0.0], [5.5, 4.2, 1.4, 0.2, 0.0], [5.5, 3.5, 1.3, 0.2, 0.0], [5.1, 3.4, 1.5, 0.2, 0.0], [5.0, 3.5, 1.3, 0.3, 0.0], [5.0, 3.5, 1.6, 0.6, 0.0], [5.1, 3.8, 1.9, 0.4, 0.0], [5.1, 3.8, 1.6, 0.2, 0.0], [5.3, 3.7, 1.5, 0.2, 0.0], [5.0, 3.3, 1.4, 0.2, 0.0]]"
      ]
     },
     "execution_count": 12,
     "metadata": {},
     "output_type": "execute_result"
    }
   ],
   "source": [
    "k.kmeans(50)(2)"
   ]
  },
  {
   "cell_type": "code",
   "execution_count": 13,
   "id": "constant-dairy",
   "metadata": {},
   "outputs": [
    {
     "data": {
      "text/plain": [
       "[[4.9, 3.0, 1.4, 0.2, 0.0], [4.7, 3.2, 1.3, 0.2, 0.0], [4.6, 3.1, 1.5, 0.2, 0.0], [4.6, 3.4, 1.4, 0.3, 0.0], [4.4, 2.9, 1.4, 0.2, 0.0], [4.9, 3.1, 1.5, 0.1, 0.0], [4.8, 3.0, 1.4, 0.1, 0.0], [4.3, 3.0, 1.1, 0.1, 0.0], [4.6, 3.6, 1.0, 0.2, 0.0], [5.0, 3.0, 1.6, 0.2, 0.0], [4.7, 3.2, 1.6, 0.2, 0.0], [4.8, 3.1, 1.6, 0.2, 0.0], [4.9, 3.1, 1.5, 0.1, 0.0], [4.9, 3.1, 1.5, 0.1, 0.0], [4.4, 3.0, 1.3, 0.2, 0.0], [4.5, 2.3, 1.3, 0.3, 0.0], [4.4, 3.2, 1.3, 0.2, 0.0], [4.8, 3.0, 1.4, 0.3, 0.0], [4.6, 3.2, 1.4, 0.2, 0.0], [0.0, 0.0, 0.0, 0.0, 0.0]]"
      ]
     },
     "execution_count": 13,
     "metadata": {},
     "output_type": "execute_result"
    }
   ],
   "source": [
    "k.kmeans(50)(3)"
   ]
  },
  {
   "cell_type": "code",
   "execution_count": 14,
   "id": "ordered-receiver",
   "metadata": {},
   "outputs": [
    {
     "data": {
      "text/plain": [
       "[[5.5, 2.3, 4.0, 1.3, 0.0], [5.7, 2.8, 4.5, 1.3, 0.0], [4.9, 2.4, 3.3, 1.0, 0.0], [5.2, 2.7, 3.9, 1.4, 0.0], [5.0, 2.0, 3.5, 1.0, 0.0], [5.9, 3.0, 4.2, 1.5, 0.0], [6.0, 2.2, 4.0, 1.0, 0.0], [5.6, 2.9, 3.6, 1.3, 0.0], [5.8, 2.7, 4.1, 1.0, 0.0], [5.6, 2.5, 3.9, 1.1, 0.0], [6.1, 2.8, 4.0, 1.3, 0.0], [5.7, 2.6, 3.5, 1.0, 0.0], [5.5, 2.4, 3.8, 1.1, 0.0], [5.5, 2.4, 3.7, 1.0, 0.0], [5.8, 2.7, 3.9, 1.2, 0.0], [5.4, 3.0, 4.5, 1.5, 0.0], [5.6, 3.0, 4.1, 1.3, 0.0], [5.5, 2.5, 4.0, 1.3, 0.0], [5.5, 2.6, 4.4, 1.2, 0.0], [5.8, 2.6, 4.0, 1.2, 0.0], [5.0, 2.3, 3.3, 1.0, 0.0], [5.6, 2.7, 4.2, 1.3, 0.0], [5.7, 3.0, 4.2, 1.2, 0.0], [5.7, 2.9, 4.2, 1.3, 0.0], [5.1, 2.5, 3.0, 1.1, 0.0], [5.7, 2.8, 4.1, 1.3, 0.0], [4.9, 2.5, 4.5, 1.7, 0.0]]"
      ]
     },
     "execution_count": 14,
     "metadata": {},
     "output_type": "execute_result"
    }
   ],
   "source": [
    "k.kmeans(50)(4)"
   ]
  },
  {
   "cell_type": "code",
   "execution_count": null,
   "id": "buried-closure",
   "metadata": {
    "scrolled": true
   },
   "outputs": [],
   "source": [
    "k.tabCentre"
   ]
  },
  {
   "cell_type": "code",
   "execution_count": 7,
   "id": "parallel-double",
   "metadata": {
    "scrolled": true
   },
   "outputs": [
    {
     "data": {
      "text/plain": [
       "[[5.1, 3.5, 1.4, 0.2, 0.0], [4.9, 3.0, 1.4, 0.2, 0.0], [4.7, 3.2, 1.3, 0.2, 0.0], [4.6, 3.1, 1.5, 0.2, 0.0], [5.0, 3.6, 1.4, 0.2, 0.0], [5.4, 3.9, 1.7, 0.4, 0.0], [4.6, 3.4, 1.4, 0.3, 0.0], [5.0, 3.4, 1.5, 0.2, 0.0], [4.4, 2.9, 1.4, 0.2, 0.0], [4.9, 3.1, 1.5, 0.1, 0.0], [5.4, 3.7, 1.5, 0.2, 0.0], [4.8, 3.4, 1.6, 0.2, 0.0], [4.8, 3.0, 1.4, 0.1, 0.0], [4.3, 3.0, 1.1, 0.1, 0.0], [5.8, 4.0, 1.2, 0.2, 0.0], [5.7, 4.4, 1.5, 0.4, 0.0], [5.4, 3.9, 1.3, 0.4, 0.0], [5.1, 3.5, 1.4, 0.3, 0.0], [5.7, 3.8, 1.7, 0.3, 0.0], [5.1, 3.8, 1.5, 0.3, 0.0], [5.4, 3.4, 1.7, 0.2, 0.0], [5.1, 3.7, 1.5, 0.4, 0.0], [4.6, 3.6, 1.0, 0.2, 0.0], [5.1, 3.3, 1.7, 0.5, 0.0], [4.8, 3.4, 1.9, 0.2, 0.0], [5.0, 3.0, 1.6, 0.2, 0.0], [5.0, 3.4, 1.6, 0.4, 0.0], [5.2, 3.5, 1.5, 0.2, 0.0], [5.2, 3.4, 1.4, 0.2, 0.0], [4.7, 3.2, 1.6, 0.2, 0.0], [4.8, 3.1, 1.6, 0.2, 0.0], [5.4, 3.4, 1.5, 0.4, 0.0], [5.2, 4.1, 1.5, 0.1, 0.0], [5.5, 4.2, 1.4, 0.2, 0.0], [4.9, 3.1, 1.5, 0.1, 0.0], [5.0, 3.2, 1.2, 0.2, 0.0], [5.5, 3.5, 1.3, 0.2, 0.0], [4.9, 3.1, 1.5, 0.1, 0.0], [4.4, 3.0, 1.3, 0.2, 0.0], [5.1, 3.4, 1.5, 0.2, 0.0], [5.0, 3.5, 1.3, 0.3, 0.0], [4.5, 2.3, 1.3, 0.3, 0.0], [4.4, 3.2, 1.3, 0.2, 0.0], [5.0, 3.5, 1.6, 0.6, 0.0], [5.1, 3.8, 1.9, 0.4, 0.0], [4.8, 3.0, 1.4, 0.3, 0.0], [5.1, 3.8, 1.6, 0.2, 0.0], [4.6, 3.2, 1.4, 0.2, 0.0], [5.3, 3.7, 1.5, 0.2, 0.0], [5.0, 3.3, 1.4, 0.2, 0.0], [7.0, 3.2, 4.7, 1.4, 0.0], [6.4, 3.2, 4.5, 1.5, 0.0], [6.9, 3.1, 4.9, 1.5, 0.0], [5.5, 2.3, 4.0, 1.3, 0.0], [6.5, 2.8, 4.6, 1.5, 0.0], [5.7, 2.8, 4.5, 1.3, 0.0], [6.3, 3.3, 4.7, 1.6, 0.0], [4.9, 2.4, 3.3, 1.0, 0.0], [6.6, 2.9, 4.6, 1.3, 0.0], [5.2, 2.7, 3.9, 1.4, 0.0], [5.0, 2.0, 3.5, 1.0, 0.0], [5.9, 3.0, 4.2, 1.5, 0.0], [6.0, 2.2, 4.0, 1.0, 0.0], [6.1, 2.9, 4.7, 1.4, 0.0], [5.6, 2.9, 3.6, 1.3, 0.0], [6.7, 3.1, 4.4, 1.4, 0.0], [5.6, 3.0, 4.5, 1.5, 0.0], [5.8, 2.7, 4.1, 1.0, 0.0], [6.2, 2.2, 4.5, 1.5, 0.0], [5.6, 2.5, 3.9, 1.1, 0.0], [5.9, 3.2, 4.8, 1.8, 0.0], [6.1, 2.8, 4.0, 1.3, 0.0], [6.3, 2.5, 4.9, 1.5, 0.0], [6.1, 2.8, 4.7, 1.2, 0.0], [6.4, 2.9, 4.3, 1.3, 0.0], [6.6, 3.0, 4.4, 1.4, 0.0], [6.8, 2.8, 4.8, 1.4, 0.0], [6.7, 3.0, 5.0, 1.7, 0.0], [6.0, 2.9, 4.5, 1.5, 0.0], [5.7, 2.6, 3.5, 1.0, 0.0], [5.5, 2.4, 3.8, 1.1, 0.0], [5.5, 2.4, 3.7, 1.0, 0.0], [5.8, 2.7, 3.9, 1.2, 0.0], [6.0, 2.7, 5.1, 1.6, 0.0], [5.4, 3.0, 4.5, 1.5, 0.0], [6.0, 3.4, 4.5, 1.6, 0.0], [6.7, 3.1, 4.7, 1.5, 0.0], [6.3, 2.3, 4.4, 1.3, 0.0], [5.6, 3.0, 4.1, 1.3, 0.0], [5.5, 2.5, 4.0, 1.3, 0.0], [5.5, 2.6, 4.4, 1.2, 0.0], [6.1, 3.0, 4.6, 1.4, 0.0], [5.8, 2.6, 4.0, 1.2, 0.0], [5.0, 2.3, 3.3, 1.0, 0.0], [5.6, 2.7, 4.2, 1.3, 0.0], [5.7, 3.0, 4.2, 1.2, 0.0], [5.7, 2.9, 4.2, 1.3, 0.0], [6.2, 2.9, 4.3, 1.3, 0.0], [5.1, 2.5, 3.0, 1.1, 0.0], [5.7, 2.8, 4.1, 1.3, 0.0], [6.3, 3.3, 6.0, 2.5, 0.0], [5.8, 2.7, 5.1, 1.9, 0.0], [7.1, 3.0, 5.9, 2.1, 0.0], [6.3, 2.9, 5.6, 1.8, 0.0], [6.5, 3.0, 5.8, 2.2, 0.0], [7.6, 3.0, 6.6, 2.1, 0.0], [4.9, 2.5, 4.5, 1.7, 0.0], [7.3, 2.9, 6.3, 1.8, 0.0], [6.7, 2.5, 5.8, 1.8, 0.0], [7.2, 3.6, 6.1, 2.5, 0.0], [6.5, 3.2, 5.1, 2.0, 0.0], [6.4, 2.7, 5.3, 1.9, 0.0], [6.8, 3.0, 5.5, 2.1, 0.0], [5.7, 2.5, 5.0, 2.0, 0.0], [5.8, 2.8, 5.1, 2.4, 0.0], [6.4, 3.2, 5.3, 2.3, 0.0], [6.5, 3.0, 5.5, 1.8, 0.0], [7.7, 3.8, 6.7, 2.2, 0.0], [7.7, 2.6, 6.9, 2.3, 0.0], [6.0, 2.2, 5.0, 1.5, 0.0], [6.9, 3.2, 5.7, 2.3, 0.0], [5.6, 2.8, 4.9, 2.0, 0.0], [7.7, 2.8, 6.7, 2.0, 0.0], [6.3, 2.7, 4.9, 1.8, 0.0], [6.7, 3.3, 5.7, 2.1, 0.0], [7.2, 3.2, 6.0, 1.8, 0.0], [6.2, 2.8, 4.8, 1.8, 0.0], [6.1, 3.0, 4.9, 1.8, 0.0], [6.4, 2.8, 5.6, 2.1, 0.0], [7.2, 3.0, 5.8, 1.6, 0.0], [7.4, 2.8, 6.1, 1.9, 0.0], [7.9, 3.8, 6.4, 2.0, 0.0], [6.4, 2.8, 5.6, 2.2, 0.0], [6.3, 2.8, 5.1, 1.5, 0.0], [6.1, 2.6, 5.6, 1.4, 0.0], [7.7, 3.0, 6.1, 2.3, 0.0], [6.3, 3.4, 5.6, 2.4, 0.0], [6.4, 3.1, 5.5, 1.8, 0.0], [6.0, 3.0, 4.8, 1.8, 0.0], [6.9, 3.1, 5.4, 2.1, 0.0], [6.7, 3.1, 5.6, 2.4, 0.0], [6.9, 3.1, 5.1, 2.3, 0.0], [5.8, 2.7, 5.1, 1.9, 0.0], [6.8, 3.2, 5.9, 2.3, 0.0], [6.7, 3.3, 5.7, 2.5, 0.0], [6.7, 3.0, 5.2, 2.3, 0.0], [6.3, 2.5, 5.0, 1.9, 0.0], [6.5, 3.0, 5.2, 2.0, 0.0], [6.2, 3.4, 5.4, 2.3, 0.0], [5.9, 3.0, 5.1, 1.8, 0.0], [0.0, 0.0, 0.0, 0.0, 0.0]]"
      ]
     },
     "execution_count": 7,
     "metadata": {},
     "output_type": "execute_result"
    }
   ],
   "source": [
    "k.data"
   ]
  },
  {
   "cell_type": "code",
   "execution_count": null,
   "id": "underlying-canadian",
   "metadata": {},
   "outputs": [],
   "source": [
    "k.distance(k.data(0),k.data(1))"
   ]
  },
  {
   "cell_type": "code",
   "execution_count": null,
   "id": "substantial-supply",
   "metadata": {},
   "outputs": [],
   "source": [
    "k.moyenne(k.data)"
   ]
  }
 ],
 "metadata": {
  "kernelspec": {
   "display_name": "Scala",
   "language": "scala",
   "name": "scala"
  },
  "language_info": {
   "codemirror_mode": "text/x-scala",
   "file_extension": ".scala",
   "mimetype": "",
   "name": "Scala",
   "nbconverter_exporter": "",
   "version": "2.11.12"
  },
  "toc": {
   "base_numbering": 1,
   "nav_menu": {},
   "number_sections": false,
   "sideBar": false,
   "skip_h1_title": false,
   "title_cell": "Table of Contents",
   "title_sidebar": "Contents",
   "toc_cell": false,
   "toc_position": {},
   "toc_section_display": false,
   "toc_window_display": false
  }
 },
 "nbformat": 4,
 "nbformat_minor": 5
}
